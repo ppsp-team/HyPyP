{
 "cells": [
  {
   "cell_type": "markdown",
   "metadata": {},
   "source": [
    "# Examples of Continuous Wavelet\n",
    "\n",
    "Author: Patrice Fortin\n",
    "\n",
    "Date: 2025-01-06\n",
    "\n",
    "The following Jupyter Notebook gives code examples for inspecting the internals of the Wavelet Transform Coherence (WTC) by showing figures of different steps of the computation.\n",
    "\n",
    "The figures can be used to visually inspect the differences between choices of parameters, and libraries.\n",
    "\n",
    "HyPyP is expected to use Pywavelets as a default implementation. It is the recommended library to use for wavelet in python, and the one that offers the most flexibility. The Pywavelets library is the only one expected to be used in production code.\n",
    "\n",
    "But, for the sake of validating the HyPyP implementation of WTC, 4 different libraries have been explored.\n",
    "\n",
    "\n",
    "| Library | Runtime | Details |\n",
    "| - | - | - |\n",
    "| Pywavelets | python | The default. Should always be used for production code |\n",
    "| Pycwt | python | Based on matlab's code |\n",
    "| Scipy | python | Deprecated, without optimisation so easier to understand the library's code |\n",
    "| WaveletCoherence | matlab | Calls matlab engine |\n",
    "\n"
   ]
  },
  {
   "cell_type": "markdown",
   "metadata": {},
   "source": [
    "## Load libraries\n"
   ]
  },
  {
   "cell_type": "code",
   "execution_count": null,
   "metadata": {},
   "outputs": [],
   "source": [
    "import numpy as np\n",
    "import re\n",
    "import matplotlib.pyplot as plt\n",
    "import pandas as pd\n",
    "import seaborn as sns"
   ]
  },
  {
   "cell_type": "code",
   "execution_count": null,
   "metadata": {},
   "outputs": [],
   "source": [
    "%load_ext IPython.extensions.autoreload\n",
    "%autoreload 2\n",
    "\n",
    "# To set breakpoints in a dependency library, use the following strategy\n",
    "#import sys\n",
    "#sys.path.insert(0, '/path/to/pycwt')\n",
    "#import pycwt\n",
    "\n",
    "import hypyp.fnirs as fnirs\n",
    "from hypyp.utils import Task\n",
    "from hypyp.wavelet import ComplexMorletWavelet, ComplexGaussianWavelet, CWT, CoherenceDataFrame\n",
    "# import other implementations\n",
    "from hypyp.wavelet.implementations.pycwt_wavelet import PycwtWavelet"
   ]
  },
  {
   "cell_type": "markdown",
   "metadata": {},
   "source": [
    "## Download and load raw data from disk\n",
    "\n",
    "To use as example, we download the dataset \"Dataset of parent-child hyperscanning fNIRS recordings\" from https://researchdata.ntu.edu.sg/dataset.xhtml?persistentId=doi:10.21979/N9/35DNCW"
   ]
  },
  {
   "cell_type": "code",
   "execution_count": null,
   "metadata": {},
   "outputs": [],
   "source": [
    "browser = fnirs.DataBrowser()\n",
    "browser.download_demo_dataset()\n"
   ]
  },
  {
   "cell_type": "markdown",
   "metadata": {},
   "source": [
    "Prepare a list of file paths to be used, without distinction of dyads or parent/child. For this example we just want some data.\n"
   ]
  },
  {
   "cell_type": "code",
   "execution_count": null,
   "metadata": {},
   "outputs": [],
   "source": [
    "# Get the paths of files\n",
    "\n",
    "paths = [path for path in browser.list_all_files() if 'fathers' in path]\n",
    "\n",
    "pattern = re.compile(r'.*/(parent|child)/.*')\n",
    "\n",
    "file_paths = []\n",
    "for path in paths:\n",
    "    if pattern.match(path) is not None:\n",
    "        file_paths.append(path)\n",
    "    \n",
    "if len(file_paths) == 0:\n",
    "    raise RuntimeError('Cannot find a fNIRS file')\n",
    "\n",
    "file_path = file_paths[0]\n",
    "\n",
    "#print(file_path)\n",
    "    "
   ]
  },
  {
   "cell_type": "markdown",
   "metadata": {},
   "source": [
    "## Define the wavelets\n",
    "\n",
    "We prepare a list of wavelets to be compared. We set the same period_range for every wavelet.\n",
    "\n",
    "Disabling the caching on wavelets is not mandatory here, but in the view that this code serves as an example, if one modifies this and reuse the same wavelet in different places without considering the fact that it caches results, one might see unexpected behaviour."
   ]
  },
  {
   "cell_type": "code",
   "execution_count": null,
   "metadata": {},
   "outputs": [],
   "source": [
    "wavelet_kwargs = dict(disable_caching=True, period_range=(1, 30))\n",
    "\n",
    "wavelets = [\n",
    "    ComplexMorletWavelet(bandwidth_frequency=2, center_frequency=0.4, **wavelet_kwargs),\n",
    "    ComplexMorletWavelet(bandwidth_frequency=2, center_frequency=0.7, **wavelet_kwargs),\n",
    "    ComplexMorletWavelet(bandwidth_frequency=2, center_frequency=1, **wavelet_kwargs), # default\n",
    "    ComplexMorletWavelet(bandwidth_frequency=2, center_frequency=2, **wavelet_kwargs),\n",
    "\n",
    "    ComplexGaussianWavelet(degree=2, **wavelet_kwargs),\n",
    "    ComplexGaussianWavelet(degree=3, **wavelet_kwargs),\n",
    "    ComplexGaussianWavelet(degree=4, **wavelet_kwargs),\n",
    "    ComplexGaussianWavelet(degree=5, **wavelet_kwargs),\n",
    "\n",
    "]\n",
    "\n"
   ]
  },
  {
   "cell_type": "markdown",
   "metadata": {},
   "source": [
    "Prepare a python iterator to easily loop over each wavelet and have a handy ax object for grid plotting."
   ]
  },
  {
   "cell_type": "code",
   "execution_count": null,
   "metadata": {},
   "outputs": [],
   "source": [
    "def wavelets_plot_iterator():\n",
    "    cols = 4\n",
    "    rows = int(np.ceil(len(wavelets) / cols))\n",
    "    fig, axes = plt.subplots(rows, cols, figsize=(20, 5*rows))\n",
    "    axes = np.atleast_2d(axes)\n",
    "    for i, wavelet in enumerate(wavelets):\n",
    "        row = i // cols\n",
    "        col = i % cols\n",
    "        ax = axes[row][col]\n",
    "        yield wavelet, ax\n"
   ]
  },
  {
   "cell_type": "markdown",
   "metadata": {},
   "source": [
    "### Mother wavelets\n",
    "\n",
    "Let's compare mother wavelets. The x axis differs between libraries because of implementation details."
   ]
  },
  {
   "cell_type": "code",
   "execution_count": null,
   "metadata": {},
   "outputs": [],
   "source": [
    "\n",
    "for wavelet, ax in wavelets_plot_iterator():\n",
    "    wavelet.plot_mother_wavelet(ax=ax)\n",
    "    ax.set_title(f'[{wavelet.wavelet_library}] {wavelet.wavelet_name}')\n",
    "_ = ax.get_figure().suptitle('Mother Wavelet for various libraries and parameters')\n"
   ]
  },
  {
   "cell_type": "markdown",
   "metadata": {},
   "source": [
    "### Form the dyad and channel pairs\n",
    "\n",
    "Prepare the signals to be used in the Continuous Wavelet Transforms. We use the first 2 files and compare the pair of the first channel in both subject"
   ]
  },
  {
   "cell_type": "code",
   "execution_count": null,
   "metadata": {},
   "outputs": [],
   "source": [
    "tasks = [Task('sample', onset_time=60, duration=60)]\n",
    "subject1 = fnirs.Subject(label='Subject1', tasks=tasks).load_file(file_paths[0], fnirs.MnePreprocessorRawToHaemo())\n",
    "subject2 = fnirs.Subject(label='Subject2', tasks=tasks).load_file(file_paths[1], fnirs.MnePreprocessorRawToHaemo())\n",
    "dyad = fnirs.Dyad(subject1, subject2, label=f'intra')\n",
    "# take one pair\n",
    "pair = dyad.get_pairs(subject1, subject2)[0]\n"
   ]
  },
  {
   "cell_type": "markdown",
   "metadata": {},
   "source": [
    "Visualize the 2 signals\n"
   ]
  },
  {
   "cell_type": "code",
   "execution_count": null,
   "metadata": {},
   "outputs": [],
   "source": [
    "plt.plot(pair.x, pair.y1)\n",
    "plt.plot(pair.x, pair.y2)\n",
    "plt.title('Signals pair')\n",
    "plt.show()\n"
   ]
  },
  {
   "cell_type": "markdown",
   "metadata": {},
   "source": [
    "# Continuous Wavelet Transform (CWT)\n",
    "\n",
    "We run the Continuous Wavelet Transform on both channels of the pair and visually inspect the results for every wavelet choices.\n",
    "\n",
    "The darker area correspond to the Cone of Influence, for which periods greater than a certain value are more subject to artifacts. \n",
    "\n",
    "**NOTE: The computation of the Cone of Influence in the pywavelets should be reviewed for validity.**\n"
   ]
  },
  {
   "cell_type": "code",
   "execution_count": null,
   "metadata": {},
   "outputs": [],
   "source": [
    "for wavelet, ax in wavelets_plot_iterator():\n",
    "    cwt = wavelet.cwt(pair.y1, pair.dt)\n",
    "    cwt.plot(ax=ax, show_colorbar=False)\n",
    "    ax.set_title(f'CWT [{wavelet.wavelet_library}] {wavelet.wavelet_name}')\n",
    "    ax.get_figure().suptitle('Continuous Wavelet Transform of subject1, channel1')\n",
    "plt.show()\n",
    "\n",
    "for wavelet, ax in wavelets_plot_iterator():\n",
    "    cwt = wavelet.cwt(pair.y2, pair.dt)\n",
    "    cwt.plot(ax=ax, show_colorbar=False)\n",
    "    ax.set_title(f'CWT [{wavelet.wavelet_library}] {wavelet.wavelet_name}')\n",
    "    ax.get_figure().suptitle('Continuous Wavelet Transform of subject2, channel1')\n",
    "plt.show()"
   ]
  },
  {
   "cell_type": "markdown",
   "metadata": {},
   "source": [
    "## Compare smoothed CWTs\n"
   ]
  },
  {
   "cell_type": "markdown",
   "metadata": {},
   "source": [
    "We explore the smooting of the the CWT. The weights of the CWT are smooted both in time and in frequency. \n",
    "\n",
    "The code below replicates the implementation details in the `BaseWavelet` class."
   ]
  },
  {
   "cell_type": "code",
   "execution_count": null,
   "metadata": {},
   "outputs": [],
   "source": [
    "for wavelet, ax in wavelets_plot_iterator():\n",
    "    cwt = wavelet.cwt(pair.y1, pair.dt)\n",
    "\n",
    "    scales = np.ones([1, len(pair.y1)]) * cwt.scales[:, None]\n",
    "    smooted = wavelet.smoothing(np.abs(cwt.W) ** 2 / scales, cwt.dt, cwt.scales)\n",
    "    cwt_smoothed = CWT(smooted**2, cwt.times, cwt.scales, cwt.periods, cwt.coi)\n",
    "    cwt_smoothed.plot(ax=ax, show_colorbar=False)\n",
    "    ax.set_title(f'Smoothed CWT [{wavelet.wavelet_library}] {wavelet.wavelet_name}')\n",
    "    ax.get_figure().suptitle('Smoothed Continuous Wavelet Transform of subject 1, channel 1')\n",
    "plt.show()\n",
    "\n"
   ]
  },
  {
   "cell_type": "code",
   "execution_count": null,
   "metadata": {},
   "outputs": [],
   "source": [
    "for wavelet, ax in wavelets_plot_iterator():\n",
    "    cwt = wavelet.cwt(pair.y2, pair.dt)\n",
    "\n",
    "    scales = np.ones([1, len(pair.y2)]) * cwt.scales[:, None]\n",
    "    smooted = wavelet.smoothing(np.abs(cwt.W) ** 2 / scales, cwt.dt, cwt.scales)\n",
    "    cwt_smoothed = CWT(smooted**2, cwt.times, cwt.scales, cwt.periods, cwt.coi)\n",
    "    cwt_smoothed.plot(ax=ax, show_colorbar=False)\n",
    "    ax.set_title(f'Smoothed CWT [{wavelet.wavelet_library}] {wavelet.wavelet_name}')\n",
    "    ax.get_figure().suptitle('Smoothed Continuous Wavelet Transform of subject 2, channel 1')\n",
    "plt.show()\n",
    "\n",
    "\n"
   ]
  },
  {
   "cell_type": "markdown",
   "metadata": {},
   "source": [
    "## Compare Wavelet Transform Coherence (WTC)\n",
    "\n",
    "Now that we can trust our CWT and smoothing, we compare the WTC results for each wavelet."
   ]
  },
  {
   "cell_type": "code",
   "execution_count": null,
   "metadata": {},
   "outputs": [],
   "source": [
    "for wavelet, ax in wavelets_plot_iterator():\n",
    "    wtc = wavelet.wtc(pair)\n",
    "    wtc.plot(ax=ax, show_colorbar=False)\n",
    "    ax.set_title(f'WTC [{wavelet.wavelet_library}] {wavelet.wavelet_name}')\n"
   ]
  },
  {
   "cell_type": "markdown",
   "metadata": {},
   "source": [
    "## Time and frequency segmentation\n",
    "\n",
    "When doing statistical analysis, multiple recordings of dyads are necessary. For each recording, a set of tasks are usually given, and can be recovered by events in the fNIRS recording file. \n",
    "\n",
    "These tasks may be recurring tasks, and have a different duration each time. A robust analysis should weight each recording by its duration.\n",
    "\n",
    "Also, recordings can present a number of signal issues, either motion artifacts that cannot be filtered, or a connectivity failing on a specific channel, to name a few. To avoid excluding channels with punctual invalid data, a signal on a channel can be splitted in segments and the WTC will be computed to the matching segment of other channels. This will result of multiple segments of smaller duration. We also need to weight accordingly.\n",
    "\n",
    "It can also be useful to split the resulting data into periods slices, to find the most \"coherent\" period ranges.\n",
    "\n",
    "In order to have a balanced weight and period slices, once the WTC has been computed on a channel pair, we can split the WTC matrix in a grid.\n",
    "\n",
    "The figure below explicitly shows the grid for a computed WTC."
   ]
  },
  {
   "cell_type": "code",
   "execution_count": null,
   "metadata": {},
   "outputs": [],
   "source": [
    "wavelet = ComplexMorletWavelet(bandwidth_frequency=2, center_frequency=1)\n",
    "bin_seconds = 10\n",
    "period_cuts = [5, 10]\n",
    "dyad = fnirs.Dyad(subject1, subject2)\n",
    "dyad.compute_wtcs(wavelet=wavelet, ch_match='S1_D1 hbo', bin_seconds=bin_seconds, period_cuts=period_cuts, verbose=False)\n",
    "\n",
    "wtc = dyad.wtcs[0]\n",
    "fig = wtc.plot(\n",
    "    show_bins=True,\n",
    "    title=f'Grid pattern with bin_seconds={bin_seconds}, period_cuts={period_cuts}',\n",
    ")\n",
    "\n"
   ]
  },
  {
   "cell_type": "markdown",
   "metadata": {},
   "source": [
    "\n",
    "We can also plot the coherence as time series, using a moving average"
   ]
  },
  {
   "cell_type": "code",
   "execution_count": null,
   "metadata": {},
   "outputs": [],
   "source": [
    "\n",
    "window_size = 10\n",
    "time_series = wtc.get_as_time_series(window_size=window_size)\n",
    "for i in range(time_series.shape[0]):\n",
    "    ts = time_series[i,:]\n",
    "    plt.plot(wtc.times, ts, label=str(wtc.p_ranges_str[i]))\n",
    "    plt.title(f\"Coherence Time Series (window size: {window_size/wtc.sfreq:.1f}s)\")\n",
    "plt.legend()\n",
    "plt.xlabel(\"Time (s)\")\n",
    "plt.ylabel(\"Coherence\")\n",
    "plt.ylim(0, 1)\n",
    "plt.show()\n"
   ]
  },
  {
   "cell_type": "markdown",
   "metadata": {},
   "source": [
    "Each bin correspond to one row in the resulting pandas dataframe. Bins with more than 50% of their area in the cone of influence will be excluded by setting `NaN` in the coherence. The `coherence_masked` correspond to the ratio of area that is subject to artifacts"
   ]
  },
  {
   "cell_type": "code",
   "execution_count": null,
   "metadata": {},
   "outputs": [],
   "source": [
    "dyad.df[['bin', 'coherence', 'coherence_masked', 'bin_time_range', 'bin_period_range']]\n"
   ]
  },
  {
   "cell_type": "markdown",
   "metadata": {},
   "source": [
    "# Coherence on multiple channel pairs\n",
    "\n",
    "## Exploring the impact of Wavelet parameters on coherence\n",
    "\n",
    "It is interesting to note that the current litterature on fNIRS hyperscanning uses a set of parameters for computing the Wavelet Transform Coherence (WTC) that has been established more than 20 years ago in the field of geophysics. The excellent article \"A Practical Guide to Wavelet Analysis\" from Terrence and Compo (1998) is foundational on the subject.\n",
    "\n",
    "In order to validate that these parameters are indeed fit for fNIRS Inter Brain Synchrony (IBS) analysis using the WTC strategy analysis, we suggest here a way to explore the impact of these parameters on the IBS research.\n",
    "\n",
    "Here is an example of how to compare the impact of wavelet parameters on the coherence results.\n",
    "\n",
    "The code below defines multiple wavelets with different parameters. For each wavelet, it computes the WTC on a list of intra-subjects.\n",
    "\n",
    "This is an example to serve as a starting point for a real analysis. A complete analysis would compute the WTC on more dyads and compare the statistical significance of the coherence given different set of parameters.\n",
    "\n",
    "Considered parameters:\n",
    "\n",
    "* Wavelet family (Complex Morlet and Complex DOG)\n",
    "* Wavelet center frequency\n",
    "* Wavelet bandwidth (Morlet only)\n",
    "* Smoothing window size\n",
    "\n",
    "There are mathematical imperatives that are not taken into consideration in the following list of wavelet parameters, and we recommend a careful review of wavelet analysis litterature before selecting the parameter pairs and drawing conclusions.\n"
   ]
  },
  {
   "cell_type": "code",
   "execution_count": null,
   "metadata": {},
   "outputs": [],
   "source": [
    "\n",
    "wavelet_kwargs = dict(period_range=(1, 30))\n",
    "wavelets = [\n",
    "    ComplexMorletWavelet(bandwidth_frequency=1, center_frequency=1, **wavelet_kwargs),\n",
    "    ComplexMorletWavelet(bandwidth_frequency=2, center_frequency=1, **wavelet_kwargs),\n",
    "    ComplexMorletWavelet(bandwidth_frequency=3, center_frequency=1, **wavelet_kwargs),\n",
    "    ComplexMorletWavelet(bandwidth_frequency=4, center_frequency=1, **wavelet_kwargs),\n",
    "\n",
    "    ComplexMorletWavelet(bandwidth_frequency=2, center_frequency=0.5, **wavelet_kwargs),\n",
    "    ComplexMorletWavelet(bandwidth_frequency=2, center_frequency=0.8, **wavelet_kwargs),\n",
    "    ComplexMorletWavelet(bandwidth_frequency=2, center_frequency=1, **wavelet_kwargs),\n",
    "    ComplexMorletWavelet(bandwidth_frequency=2, center_frequency=1.5, **wavelet_kwargs),\n",
    "\n",
    "    ComplexMorletWavelet(wtc_smoothing_win_size=0.001, **wavelet_kwargs),\n",
    "    ComplexMorletWavelet(wtc_smoothing_win_size=0.1, **wavelet_kwargs),\n",
    "    ComplexMorletWavelet(wtc_smoothing_win_size=0.6, **wavelet_kwargs),\n",
    "    ComplexMorletWavelet(wtc_smoothing_win_size=1, **wavelet_kwargs),\n",
    "\n",
    "    ComplexGaussianWavelet(degree=2, **wavelet_kwargs),\n",
    "    ComplexGaussianWavelet(degree=3, **wavelet_kwargs),\n",
    "    ComplexGaussianWavelet(degree=4, **wavelet_kwargs),\n",
    "    ComplexGaussianWavelet(degree=5, **wavelet_kwargs),\n",
    "]\n",
    "\n",
    "dyads = []\n",
    "tasks = [Task('sample', onset_time=60, duration=60)]\n",
    "processor = fnirs.MnePreprocessorRawToHaemo()\n",
    "bin_seconds = 10\n",
    "period_cuts = [5, 10]\n",
    "n_dyads = 3\n",
    "for wavelet in wavelets:\n",
    "    for i in np.arange(0, n_dyads):\n",
    "        file_path1 = file_paths[i*2]\n",
    "        file_path2 = file_paths[i*2+1]\n",
    "        #print(f'WTC \"{wavelet.wavelet_name}\" on file \"{file_path1}\" and {file_path2}')\n",
    "        # clear previous cache from loop\n",
    "        wavelet.clear_cache()\n",
    "        subject1 = fnirs.Subject(tasks=tasks, label='subject1').load_file(file_path1, processor)\n",
    "        subject2 = fnirs.Subject(tasks=tasks, label='subject2').load_file(file_path2, processor)\n",
    "        dyad = fnirs.Dyad(subject1, subject2, label=f'{subject1.label}-{subject2.label} [{wavelet.wavelet_library}] {wavelet.wavelet_name}')\n",
    "        dyad.compute_wtcs(wavelet=wavelet, ch_match='hbo', bin_seconds=bin_seconds, period_cuts=period_cuts, verbose=False)\n",
    "        dyads.append(dyad)\n",
    "\n"
   ]
  },
  {
   "cell_type": "code",
   "execution_count": null,
   "metadata": {},
   "outputs": [],
   "source": [
    "\n",
    "df = CoherenceDataFrame.concat([dyad.df for dyad in dyads])\n",
    "\n",
    "plt.figure(figsize=(12, 12))\n",
    "\n",
    "df['wavelet_key'] = df['wavelet_library'].astype(str) + ['_']*df.shape[0] + df['wavelet_name'].astype(str)\n",
    "df['wavelet_key'] = df['wavelet_key'].astype('category')\n",
    "\n",
    "flierprops = {\"marker\": \".\", \"markerfacecolor\": \"black\", \"markersize\": 4}\n",
    "\n",
    "sns.boxplot(data=df, y='wavelet_key', x='coherence', hue='bin_period_range', orient='h', flierprops=flierprops)\n",
    "\n",
    "# Customize the plot\n",
    "plt.legend(title='Period ranges', bbox_to_anchor=(1.05, 1), loc='upper left')\n",
    "\n",
    "plt.title('Comparison of coherence')\n",
    "plt.tight_layout()  # Adjust layout to prevent label cutoff\n",
    "plt.show()\n",
    "\n"
   ]
  },
  {
   "cell_type": "code",
   "execution_count": null,
   "metadata": {},
   "outputs": [],
   "source": []
  }
 ],
 "metadata": {
  "kernelspec": {
   "display_name": "hypyp-7qkQHe7x-py3.12",
   "language": "python",
   "name": "python3"
  },
  "language_info": {
   "codemirror_mode": {
    "name": "ipython",
    "version": 3
   },
   "file_extension": ".py",
   "mimetype": "text/x-python",
   "name": "python",
   "nbconvert_exporter": "python",
   "pygments_lexer": "ipython3",
   "version": "3.12.8"
  }
 },
 "nbformat": 4,
 "nbformat_minor": 2
}
