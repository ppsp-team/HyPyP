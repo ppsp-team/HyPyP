{
 "cells": [
  {
   "cell_type": "markdown",
   "id": "28aa8aad",
   "metadata": {},
   "source": [
    "# EEGLAB Tutorial #2: Using an Existing EEGLAB Montage\n",
    "\n",
    "**Author**: Katie Douglas  \n",
    "**Date**: 2022-01-13\n",
    "\n",
    "## Overview\n",
    "\n",
    "In this tutorial, we demonstrate how to import epoched EEGLAB data into HyPyP using an existing EEGLAB montage file. Instead of creating a montage from scratch, we load channel locations from a pre‐formatted EEGLAB channel locations file (e.g., a `.locs` file).\n",
    "\n",
    "(See https://eeglab.org/tutorials/04_Import/Channel_Locations.html#supported-data-formats for more information)\n",
    "\n",
    "This notebook covers:\n",
    "\n",
    "1. Loading epoched data and raw data from EEGLAB\n",
    "2. Equalizing the number of epochs between participants\n",
    "3. Loading and creating a custom montage from an EEGLAB montage file\n",
    "4. Applying the montage to both raw and epoched data\n",
    "5. Visualizing sensor locations and dropping EOG channels\n",
    "\n",
    "The channel location visualtizations in this tutorial use MNE visualizations. Please note that MNE and EEGLAB channel topomap and channel location visualizations are known to be slightly different (MNE provides a detailed discussion about this here https://mne.tools/stable/auto_examples/visualization/eeglab_head_sphere.html)."
   ]
  },
  {
   "cell_type": "markdown",
   "id": "afe9bbd7",
   "metadata": {},
   "source": [
    "## 1. Load in the Epoched Data\n",
    "\n",
    "For each participant, both the `.set` and `.fdt` files should be stored in the same directory. In this example, we use the sample dataset provided by EEGLAB. Although participants do not need to have the same number of epochs, they must share the same sampling rate (i.e. the same number of samples per epoch)."
   ]
  },
  {
   "cell_type": "code",
   "execution_count": null,
   "id": "235a5936",
   "metadata": {},
   "outputs": [],
   "source": [
    "import mne\n",
    "import warnings\n",
    "\n",
    "# Suppress RuntimeWarnings for cleaner output\n",
    "warnings.filterwarnings(\"ignore\", category=RuntimeWarning)\n",
    "\n",
    "# Define file paths for the epoched data for two participants\n",
    "path_1 = \"../data/EEGLAB/eeglab_data_epochs_ica.set\"\n",
    "path_2 = \"../data/EEGLAB/eeglab_data_epochs_ica.set\"\n",
    "\n",
    "# Load the epoched data using MNE's EEGLAB reader\n",
    "epo1 = mne.io.read_epochs_eeglab(path_1)\n",
    "epo2 = mne.io.read_epochs_eeglab(path_2)\n",
    "\n",
    "print('Epoched data loaded for both participants.')"
   ]
  },
  {
   "cell_type": "markdown",
   "id": "a9c719c1",
   "metadata": {},
   "source": [
    "## 2. Read in the Raw Data\n",
    "\n",
    "Load the raw EEG data (not epoched) from EEGLAB. This raw data will be used to apply the montage and inspect channel locations."
   ]
  },
  {
   "cell_type": "code",
   "execution_count": null,
   "id": "6e1fa6d9",
   "metadata": {},
   "outputs": [],
   "source": [
    "# Define the file path for the raw EEGLAB data\n",
    "raw_data_path = \"../data/EEGLAB/eeglab_data.set\"\n",
    "\n",
    "# Read the raw data using MNE\n",
    "raw_data = mne.io.read_raw_eeglab(raw_data_path)\n",
    "\n",
    "print('Raw data loaded.')"
   ]
  },
  {
   "cell_type": "markdown",
   "id": "2818c0c2",
   "metadata": {},
   "source": [
    "## 3. Equalize the Number of Epochs\n",
    "\n",
    "Ensure that both participants have the same number of epochs (if possible) for further analysis."
   ]
  },
  {
   "cell_type": "code",
   "execution_count": null,
   "id": "91dcf3c3",
   "metadata": {},
   "outputs": [],
   "source": [
    "mne.epochs.equalize_epoch_counts([epo1, epo2])\n",
    "print('Epoch counts equalized between participants.')"
   ]
  },
  {
   "cell_type": "markdown",
   "id": "868b7da2",
   "metadata": {},
   "source": [
    "## 4. Load in the EEGLAB Montage\n",
    "\n",
    "Specify the path to the EEGLAB montage file. In this example, we use a `.locs` file containing the channel locations for a 32-channel montage."
   ]
  },
  {
   "cell_type": "code",
   "execution_count": null,
   "id": "9ce0e028",
   "metadata": {},
   "outputs": [],
   "source": [
    "eeglab_montage = \"../data/EEGLAB/eeglab_chan32.locs\"\n",
    "print('EEGLAB montage file path set.')"
   ]
  },
  {
   "cell_type": "markdown",
   "id": "d24160d2",
   "metadata": {},
   "source": [
    "## 5. Create a Custom EEGLAB Montage\n",
    "\n",
    "Use MNE's `read_custom_montage` function to create a montage from the provided file."
   ]
  },
  {
   "cell_type": "code",
   "execution_count": null,
   "id": "cefde270",
   "metadata": {},
   "outputs": [],
   "source": [
    "montage = mne.channels.read_custom_montage(eeglab_montage)\n",
    "print('Custom EEGLAB montage created.')"
   ]
  },
  {
   "cell_type": "markdown",
   "id": "d837da8d",
   "metadata": {},
   "source": [
    "## 6. Set the Custom EEGLAB Montage on Raw Data and Visualize\n",
    "\n",
    "Apply the montage to the raw data and plot the sensor locations. Note that two channels may appear off the head – these are typically the EOG channels."
   ]
  },
  {
   "cell_type": "code",
   "execution_count": null,
   "id": "7e166b04",
   "metadata": {},
   "outputs": [],
   "source": [
    "# Apply the custom montage to the raw data\n",
    "raw_data.set_montage(montage)\n",
    "\n",
    "# Plot sensor locations using MNE's visualization\n",
    "raw_data.plot_sensors()\n",
    "\n",
    "print('Montage applied to raw data and sensors plotted.')"
   ]
  },
  {
   "cell_type": "markdown",
   "id": "7eaf9167",
   "metadata": {},
   "source": [
    "### Inspect Channel Names and Information\n",
    "\n",
    "Print the channel names and raw data information to check for channels that are not located on the head (e.g., EOG channels)."
   ]
  },
  {
   "cell_type": "code",
   "execution_count": null,
   "id": "91b53786",
   "metadata": {},
   "outputs": [],
   "source": [
    "print(raw_data.info['ch_names'])\n",
    "\n",
    "# Display the full info structure\n",
    "raw_data.info"
   ]
  },
  {
   "cell_type": "markdown",
   "id": "44767282",
   "metadata": {},
   "source": [
    "As MNE recognizes these EEGLAB EOG channels as EEG channels, the EOG channels will need to dropped manually."
   ]
  },
  {
   "cell_type": "markdown",
   "id": "91bd7645",
   "metadata": {},
   "source": [
    "## 7. Apply the Custom Montage to the Epoched Data\n",
    "\n",
    "Set the montage for the epoched data and plot the sensor layout. At this stage, EOG channels are still present."
   ]
  },
  {
   "cell_type": "code",
   "execution_count": null,
   "id": "e5415273",
   "metadata": {},
   "outputs": [],
   "source": [
    "epo1.set_montage(montage)\n",
    "epo1.plot_sensors()\n",
    "\n",
    "print('Montage applied to epoched data (epo1).')"
   ]
  },
  {
   "cell_type": "markdown",
   "id": "060e7337",
   "metadata": {},
   "source": [
    "## 8. Drop the EOG Channels\n",
    "\n",
    "Since MNE recognizes the EOG channels as EEG channels, we need to drop them manually. First, we drop them from `epo1` and then plot the sensor locations to verify that the EOG channels are removed."
   ]
  },
  {
   "cell_type": "code",
   "execution_count": null,
   "id": "0fbe4458",
   "metadata": {},
   "outputs": [],
   "source": [
    "epo1.drop_channels(['EOG1', 'EOG2'])\n",
    "epo1.plot_sensors()\n",
    "\n",
    "print('EOG channels dropped from epo1.')"
   ]
  },
  {
   "cell_type": "markdown",
   "id": "d13e1a23",
   "metadata": {},
   "source": [
    "## 9. Apply the Montage and Drop EOG Channels in One Step for `epo2`\n",
    "\n",
    "For convenience, you can set the montage and drop the EOG channels in a single workflow. The following cell demonstrates this for `epo2`."
   ]
  },
  {
   "cell_type": "code",
   "execution_count": null,
   "id": "d67bb79d",
   "metadata": {},
   "outputs": [],
   "source": [
    "epo2.set_montage(montage)\n",
    "epo2.drop_channels(['EOG1', 'EOG2'])\n",
    "epo2.plot_sensors()\n",
    "\n",
    "print('Montage applied and EOG channels dropped for epo2.')"
   ]
  }
 ],
 "metadata": {
  "kernelspec": {
   "display_name": "Python 3 (ipykernel)",
   "language": "python",
   "name": "python3"
  },
  "language_info": {
   "codemirror_mode": {
    "name": "ipython",
    "version": 3
   },
   "file_extension": ".py",
   "mimetype": "text/x-python",
   "name": "python",
   "nbconvert_exporter": "python",
   "pygments_lexer": "ipython3",
   "version": "3.10.11"
  }
 },
 "nbformat": 4,
 "nbformat_minor": 5
}
