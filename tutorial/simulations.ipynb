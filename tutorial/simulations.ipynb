{
 "cells": [
  {
   "cell_type": "markdown",
   "metadata": {},
   "source": [
    "# Test for Simulated EEG\n",
    "\n",
    "**Author**: Guillaume Dumas  \n",
    "**Date**: 2020-07-09\n",
    "\n",
    "## Overview\n",
    "\n",
    "This notebook demonstrates a simulation of EEG data using coupled oscillators. In this example:\n",
    "\n",
    "- We load simulated EEG epochs using MNE.\n",
    "- Random epochs are generated for comparison.\n",
    "- Coupled oscillators are simulated by integrating a system of differential equations (using `odeint`).\n",
    "- We define a function to generate a virtual dyad from the simulated data.\n",
    "\n",
    "The final output is a set of simulated epochs that are plotted and can be further analyzed using HyPyP's tools."
   ]
  },
  {
   "cell_type": "markdown",
   "metadata": {},
   "source": [
    "## Load useful libs"
   ]
  },
  {
   "cell_type": "code",
   "execution_count": null,
   "metadata": {},
   "outputs": [],
   "source": [
    "# Core libraries\n",
    "from pathlib import Path\n",
    "from copy import copy\n",
    "from collections import OrderedDict\n",
    "\n",
    "# Data science libraries\n",
    "import numpy as np\n",
    "import scipy\n",
    "from scipy.integrate import odeint\n",
    "\n",
    "# Visualization\n",
    "import matplotlib.pyplot as plt\n",
    "\n",
    "# MNE for EEG processing\n",
    "import mne\n",
    "\n",
    "# HyPyP modules\n",
    "from hypyp import prep  # requires autoreject installation\n",
    "from hypyp import analyses\n",
    "from hypyp import stats\n",
    "from hypyp import viz\n",
    "from hypyp import utils\n",
    "\n",
    "print('All libraries imported.')"
   ]
  },
  {
   "cell_type": "markdown",
   "metadata": {},
   "source": [
    "## Setting Parameters\n",
    "\n",
    "We define the frequency bands used in the study and store them in an `OrderedDict` to maintain the desired order."
   ]
  },
  {
   "cell_type": "code",
   "execution_count": null,
   "metadata": {},
   "outputs": [],
   "source": [
    "# Define frequency bands\n",
    "freq_bands = {\n",
    "    'Theta': [4, 7],\n",
    "    'Alpha-Low': [7.5, 11],\n",
    "    'Alpha-High': [11.5, 13],\n",
    "    'Beta': [13.5, 29.5],\n",
    "    'Gamma': [30, 48]\n",
    "}\n",
    "\n",
    "# Preserve the order using an OrderedDict\n",
    "freq_bands = OrderedDict(freq_bands)\n",
    "\n",
    "print('Frequency bands set:', freq_bands)"
   ]
  },
  {
   "cell_type": "markdown",
   "metadata": {},
   "source": [
    "## Load Data\n",
    "\n",
    "We load the EEG epochs from fiff files for two participants. The epochs are then equalized so that both participants have the same number of epochs."
   ]
  },
  {
   "cell_type": "code",
   "execution_count": null,
   "metadata": {},
   "outputs": [],
   "source": [
    "# Load epochs from fiff files (using MNE)\n",
    "epo1 = mne.read_epochs(\n",
    "    Path('../data/participant1-epo.fif').resolve(),\n",
    "    preload=True\n",
    ")\n",
    "\n",
    "epo2 = mne.read_epochs(\n",
    "    Path('../data/participant2-epo.fif').resolve(),\n",
    "    preload=True\n",
    ")\n",
    "\n",
    "print('Epochs loaded for both participants.')"
   ]
  },
  {
   "cell_type": "markdown",
   "metadata": {},
   "source": [
    "Since our example dataset was not initially dedicated to hyperscanning, we need to equalize the number of epochs between our two participants."
   ]
  },
  {
   "cell_type": "code",
   "execution_count": null,
   "metadata": {},
   "outputs": [],
   "source": [
    "# Equalize the number of epochs between participants\n",
    "mne.epochs.equalize_epoch_counts([epo1, epo2])\n",
    "print('Epoch counts equalized.')"
   ]
  },
  {
   "cell_type": "code",
   "execution_count": null,
   "metadata": {},
   "outputs": [],
   "source": [
    "# Define the sampling frequency from the first participant's data\n",
    "sampling_rate = epo1.info['sfreq']  # in Hz\n",
    "print('Sampling rate:', sampling_rate)"
   ]
  },
  {
   "cell_type": "markdown",
   "metadata": {},
   "source": [
    "## Generate Random Epochs\n",
    "\n",
    "Using HyPyP's utility functions, we merge the two participants' epochs and then generate a set of random epochs for comparison."
   ]
  },
  {
   "cell_type": "code",
   "execution_count": null,
   "metadata": {},
   "outputs": [],
   "source": [
    "# Merge epochs from both participants\n",
    "epo_real = utils.merge(epoch_S1=epo1, epoch_S2=epo2)\n",
    "\n",
    "# Generate random epochs with a specified mean and standard deviation\n",
    "epo_rnd = utils.generate_random_epoch(epoch=epo_real, mu=0.0, sigma=2.0)\n",
    "\n",
    "# Get data shape and sampling frequency\n",
    "n_epo, n_chan, n_samp = epo_real.get_data(copy=False).shape\n",
    "sfreq = epo_real.info['sfreq']\n",
    "\n",
    "print(f'epo_real shape: {n_epo} epochs, {n_chan} channels, {n_samp} samples per epoch')"
   ]
  },
  {
   "cell_type": "markdown",
   "metadata": {},
   "source": [
    "## Generate Coupled Oscillators\n",
    "\n",
    "We now simulate coupled oscillators. First, we define the parameters for the oscillators and construct a coupling matrix `W` that specifies which channels are coupled. In this example, the channels are split into two groups of equal size, with intra-group coupling only.\n",
    "\n",
    "We then visualize the coupling matrix using `matshow`."
   ]
  },
  {
   "cell_type": "code",
   "execution_count": null,
   "metadata": {},
   "outputs": [],
   "source": [
    "# Oscillator parameters\n",
    "frequency_mean = 10.0  # Hz\n",
    "frequency_std = 0.2    # Hz\n",
    "\n",
    "noise_phase_level = 0.005 / n_samp\n",
    "noise_amplitude_level = 0.0\n",
    "\n",
    "# Determine the number of channels per group\n",
    "N = int(n_chan / 2)\n",
    "\n",
    "# Build the coupling matrix with two groups\n",
    "A11 = 1 * np.ones((N, N))\n",
    "A12 = 0 * np.ones((N, N))\n",
    "A21 = 0 * np.ones((N, N))\n",
    "A22 = 1 * np.ones((N, N))\n",
    "W = np.block([[A11, A12], [A21, A22]])\n",
    "W = 0.2 * W\n",
    "\n",
    "# Visualize the coupling matrix\n",
    "plt.matshow(W)\n",
    "plt.title('Coupling Matrix W')\n",
    "plt.colorbar()\n",
    "plt.show()\n",
    "\n",
    "print('Coupling matrix constructed.')"
   ]
  },
  {
   "cell_type": "markdown",
   "metadata": {},
   "source": [
    "### Simulate Oscillator Phases\n",
    "\n",
    "We simulate the phases of the coupled oscillators by integrating a system of differential equations. First, we define the function `fp(p, t)` which computes the instantaneous phase derivative given the current phase `p` and time `t`.\n",
    "\n",
    "We then integrate this function using `odeint` over a time vector `tv` and plot the phase evolution at the start and end of the simulation."
   ]
  },
  {
   "cell_type": "code",
   "execution_count": null,
   "metadata": {},
   "outputs": [],
   "source": [
    "# Total number of time points across all epochs\n",
    "Nt = n_samp * n_epo\n",
    "\n",
    "# Total duration in seconds\n",
    "tmax = (n_samp / sfreq) * n_epo\n",
    "\n",
    "# Create a time vector from 0 to tmax\n",
    "tv = np.linspace(0., tmax, Nt)\n",
    "\n",
    "# Generate random frequencies for each channel\n",
    "freq = frequency_mean + frequency_std * np.random.randn(n_chan)\n",
    "omega = 2. * np.pi * freq\n",
    "\n",
    "def fp(p, t):\n",
    "    \"\"\"\n",
    "    Compute the derivative of the phase vector for the coupled oscillators.\n",
    "    \n",
    "    Parameters:\n",
    "        p (array): Phase vector (in radians).\n",
    "        t (float): Time (not used explicitly here as the system is autonomous).\n",
    "    \n",
    "    Returns:\n",
    "        array: Time derivative of phase vector.\n",
    "    \"\"\"\n",
    "    p = np.atleast_2d(p)\n",
    "    # Compute coupling term\n",
    "    coupling = np.squeeze((np.sin(p) * np.matmul(W, np.cos(p).T).T) - (np.cos(p) * np.matmul(W, np.sin(p).T).T))\n",
    "    # Compute phase derivative\n",
    "    dotp = omega - coupling + noise_phase_level * np.random.randn(n_chan)\n",
    "    return dotp\n",
    "\n",
    "# Integrate the differential equation to obtain phase evolution\n",
    "p0 = 2 * np.pi * np.block([np.zeros(N), np.zeros(N) + np.random.rand(N) + 0.5])\n",
    "Phi = odeint(fp, p0, tv) % (2 * np.pi)\n",
    "\n",
    "# Plot phase evolution for the first epoch and the last epoch\n",
    "plt.figure(figsize=(20, 10))\n",
    "plt.subplot(2, 1, 1)\n",
    "plt.imshow(Phi[:n_samp, :].T, interpolation='none', cmap='hsv')\n",
    "plt.title('Phase evolution (first epoch)')\n",
    "plt.subplot(2, 1, 2)\n",
    "plt.imshow(Phi[-n_samp:, :].T, interpolation='none', cmap='hsv')\n",
    "plt.title('Phase evolution (last epoch)')\n",
    "plt.tight_layout()\n",
    "plt.show()\n",
    "\n",
    "print('Phase simulation completed.')"
   ]
  },
  {
   "cell_type": "markdown",
   "metadata": {},
   "source": [
    "### Plot Signals\n",
    "\n",
    "We now compare the original EEG epochs, the random signal, and the simulated sine signals computed from the phase evolution. Four subplots are generated for visualization."
   ]
  },
  {
   "cell_type": "code",
   "execution_count": null,
   "metadata": {},
   "outputs": [],
   "source": [
    "plt.figure(figsize=(20, 10))\n",
    "\n",
    "# Plot original EEG (first epoch from merged real data)\n",
    "plt.subplot(2, 2, 1)\n",
    "plt.plot(tv[:n_samp], np.squeeze(epo_real[0]._data.T), \"-\")\n",
    "plt.xlabel(\"Time, t [s]\")\n",
    "plt.ylabel(\"Amplitude\")\n",
    "plt.title('Original EEG')\n",
    "\n",
    "# Plot random signal (first epoch from random data)\n",
    "plt.subplot(2, 2, 2)\n",
    "plt.plot(tv[:n_samp], np.squeeze(epo_rnd[0]._data).T, \"-\")\n",
    "plt.xlabel(\"Time, t [s]\")\n",
    "plt.ylabel(\"Amplitude\")\n",
    "plt.title('Random signal')\n",
    "\n",
    "# Plot sine of phase at start of simulation\n",
    "plt.subplot(2, 2, 3)\n",
    "plt.plot(tv[:n_samp], np.sin(Phi[:n_samp, :]), \"-\")\n",
    "plt.xlabel(\"Time, t [s]\")\n",
    "plt.ylabel(\"Amplitude\")\n",
    "plt.title('Start of the simulation')\n",
    "\n",
    "# Plot sine of phase at end of simulation\n",
    "plt.subplot(2, 2, 4)\n",
    "plt.plot(tv[-n_samp:], np.sin(Phi[-n_samp:, :]), \"-\")\n",
    "plt.xlabel(\"Time, t [s]\")\n",
    "plt.ylabel(\"Amplitude\")\n",
    "plt.title('End of the simulation')\n",
    "\n",
    "plt.tight_layout()\n",
    "plt.show()\n",
    "\n",
    "print('Signal plots generated.')"
   ]
  },
  {
   "cell_type": "markdown",
   "metadata": {},
   "source": [
    "## Generate Virtual Dyad\n",
    "\n",
    "We define a function `virtual_dyad` that creates simulated EEG epochs based on the real epochs using coupled oscillator dynamics. The function integrates the phase equations and then creates simulated EEG signals as sine waves with added noise.\n",
    "\n",
    "Below is the function definition with a docstring describing its inputs and outputs."
   ]
  },
  {
   "cell_type": "code",
   "execution_count": null,
   "metadata": {},
   "outputs": [],
   "source": [
    "def virtual_dyad(epochs=epo_real, frequency_mean=10., frequency_std=0.2, noise_phase_level=0.005, noise_amplitude_level=0.1, W=W):\n",
    "    \"\"\"\n",
    "    Generate a simulated (virtual) dyad of EEG epochs based on coupled oscillator dynamics.\n",
    "    \n",
    "    Parameters:\n",
    "        epochs (Epochs): Real EEG epochs to base the simulation on.\n",
    "        frequency_mean (float): Mean oscillator frequency (Hz).\n",
    "        frequency_std (float): Standard deviation of oscillator frequencies (Hz).\n",
    "        noise_phase_level (float): Noise level added to phase dynamics.\n",
    "        noise_amplitude_level (float): Amplitude noise level added to the simulated EEG.\n",
    "        W (ndarray): Coupling matrix between channels.\n",
    "    \n",
    "    Returns:\n",
    "        Epochs: Simulated EEG epochs with the same structure as the input epochs.\n",
    "    \"\"\"\n",
    "    n_epo, n_chan, n_samp = epochs.get_data(copy=False).shape\n",
    "    sfreq = epochs.info['sfreq']\n",
    "\n",
    "    Nt = n_samp * n_epo\n",
    "    tmax = (n_samp / sfreq) * n_epo  # total duration in seconds\n",
    "    tv = np.linspace(0., tmax, Nt)\n",
    "\n",
    "    # Generate random oscillator frequencies for each channel\n",
    "    freq = frequency_mean + frequency_std * np.random.randn(n_chan)\n",
    "    omega = 2. * np.pi * freq\n",
    "\n",
    "    def fp(p, t):\n",
    "        p = np.atleast_2d(p)\n",
    "        coupling = np.squeeze((np.sin(p) * np.matmul(W, np.cos(p).T).T) - (np.cos(p) * np.matmul(W, np.sin(p).T).T))\n",
    "        dotp = omega - coupling + noise_phase_level * np.random.randn(n_chan) / n_samp\n",
    "        return dotp\n",
    "\n",
    "    # Initial phases\n",
    "    p0 = 2 * np.pi * np.block([np.zeros(int(n_chan/2)), np.zeros(int(n_chan/2)) + np.random.rand(int(n_chan/2)) + 0.5])\n",
    "\n",
    "    # Integrate phase dynamics\n",
    "    phi = odeint(fp, p0, tv) % (2 * np.pi)\n",
    "    \n",
    "    # Create simulated EEG signals as sine of the phases plus amplitude noise\n",
    "    eeg = np.sin(phi) + noise_amplitude_level * np.random.randn(*phi.shape)\n",
    "    \n",
    "    # Reshape the simulated data to match the original epochs shape\n",
    "    simulation = epochs.copy()\n",
    "    simulation._data = np.transpose(np.reshape(eeg.T, [n_chan, n_epo, n_samp]), (1, 0, 2))\n",
    "    \n",
    "    return simulation\n",
    "\n",
    "print('virtual_dyad function defined.')"
   ]
  },
  {
   "cell_type": "markdown",
   "metadata": {},
   "source": [
    "## Simulate and Plot Virtual Dyad\n",
    "\n",
    "We now generate simulated EEG epochs using the `virtual_dyad` function and plot a subset of the epochs."
   ]
  },
  {
   "cell_type": "code",
   "execution_count": null,
   "metadata": {},
   "outputs": [],
   "source": [
    "# Generate simulated epochs based on the real epochs\n",
    "sim = virtual_dyad(epochs=epo_real, frequency_mean=10., frequency_std=0.2, noise_phase_level=0.005, noise_amplitude_level=0.1, W=W)\n",
    "\n",
    "# Plot a few epochs from the simulated data\n",
    "sim.plot(scalings=5, n_epochs=3, n_channels=62)\n",
    "plt.show()\n",
    "\n",
    "print('Simulated EEG (virtual dyad) plotted.')"
   ]
  }
 ],
 "metadata": {
  "kernelspec": {
   "display_name": "Python 3 (ipykernel)",
   "language": "python",
   "name": "python3"
  },
  "language_info": {
   "codemirror_mode": {
    "name": "ipython",
    "version": 3
   },
   "file_extension": ".py",
   "mimetype": "text/x-python",
   "name": "python",
   "nbconvert_exporter": "python",
   "pygments_lexer": "ipython3",
   "version": "3.10.11"
  }
 },
 "nbformat": 4,
 "nbformat_minor": 4
}
